{
  "cells": [
    {
      "cell_type": "markdown",
      "metadata": {
        "id": "PmrhfKHP-att"
      },
      "source": [
        "# Libraries"
      ]
    },
    {
      "cell_type": "code",
      "execution_count": null,
      "metadata": {
        "colab": {
          "base_uri": "https://localhost:8080/"
        },
        "id": "vF_l8npm-atv",
        "outputId": "7f3e896c-5490-4b2c-a265-b146eccb4e91"
      },
      "outputs": [
        {
          "output_type": "stream",
          "name": "stderr",
          "text": [
            "[nltk_data] Downloading package vader_lexicon to /root/nltk_data...\n"
          ]
        },
        {
          "output_type": "stream",
          "name": "stdout",
          "text": [
            "Mounted at /content/drive\n"
          ]
        }
      ],
      "source": [
        "import pickle\n",
        "import pandas as pd\n",
        "import seaborn as sns\n",
        "import os\n",
        "from os.path import exists\n",
        "import matplotlib.pyplot as plt\n",
        "from sklearn.neighbors import KNeighborsClassifier\n",
        "from sklearn.model_selection import train_test_split\n",
        "from sklearn.metrics import accuracy_score, confusion_matrix\n",
        "from google.colab import drive\n",
        "import nltk\n",
        "nltk.download('vader_lexicon')\n",
        "from nltk.sentiment.vader import SentimentIntensityAnalyzer\n",
        "\n",
        "# Mount Google Drive\n",
        "drive.mount('/content/drive')\n"
      ]
    },
    {
      "cell_type": "markdown",
      "metadata": {
        "id": "go5xKpef-atv"
      },
      "source": [
        "# Loading the Files\n",
        "\n",
        "Download the csv files into the `data/` directory."
      ]
    },
    {
      "cell_type": "code",
      "execution_count": null,
      "metadata": {
        "colab": {
          "base_uri": "https://localhost:8080/",
          "height": 1000
        },
        "id": "yy6ZgQYP-atv",
        "outputId": "511efc44-7d12-4bb3-9481-4229123f4976"
      },
      "outputs": [
        {
          "output_type": "stream",
          "name": "stdout",
          "text": [
            "train.csv shape is  (1697533, 9)\n",
            "test.csv shape is  (212192, 2)\n",
            "\n",
            "        Id   ProductId          UserId  HelpfulnessNumerator  \\\n",
            "0   914403  B0009W5KHM   AV6QDP8Q0ONK4                     2   \n",
            "1   354887  6303079709  A2I8RXJN80A2D2                     0   \n",
            "2  1407653  B004H0M2XC  A3FHV3RV8Z12E6                     0   \n",
            "3  1377458  B003ZJ9536  A12VLTA3ZHVPUY                     1   \n",
            "4   475323  630574453X  A13NM1PES9OXVN                     2   \n",
            "\n",
            "   HelpfulnessDenominator        Time  \\\n",
            "0                       2  1341014400   \n",
            "1                       0  1168819200   \n",
            "2                       0  1386201600   \n",
            "3                       1  1348704000   \n",
            "4                       3   970012800   \n",
            "\n",
            "                                         Summary  \\\n",
            "0                                  GOOD FUN FILM   \n",
            "1                                   Movie Review   \n",
            "2             When is it a good time to Consent?   \n",
            "3                                          TRUTH   \n",
            "4  Intelligent and bittersweet -- stays with you   \n",
            "\n",
            "                                                Text  Score  \n",
            "0  While most straight to DVD films are not worth...    5.0  \n",
            "1  I have wanted this one for sometime, also.  I ...    5.0  \n",
            "2  Actually this was a pretty darn good indie fil...    4.0  \n",
            "3  Episodes 37 to 72 of the series press on in a ...    5.0  \n",
            "4  I was really impressed with this movie, but wa...    3.0  \n",
            "\n",
            "        Id  Score\n",
            "0  1323432    NaN\n",
            "1  1137299    NaN\n",
            "2  1459366    NaN\n",
            "3   931601    NaN\n",
            "4  1311995    NaN\n",
            "\n",
            "                 Id  HelpfulnessNumerator  HelpfulnessDenominator  \\\n",
            "count  1.697533e+06          1.697533e+06            1.697533e+06   \n",
            "mean   8.487660e+05          3.569048e+00            5.301422e+00   \n",
            "std    4.900357e+05          1.727883e+01            2.024445e+01   \n",
            "min    0.000000e+00          0.000000e+00            0.000000e+00   \n",
            "25%    4.243830e+05          0.000000e+00            0.000000e+00   \n",
            "50%    8.487660e+05          1.000000e+00            1.000000e+00   \n",
            "75%    1.273149e+06          3.000000e+00            5.000000e+00   \n",
            "max    1.697532e+06          6.084000e+03            6.510000e+03   \n",
            "\n",
            "               Time         Score  \n",
            "count  1.697533e+06  1.485341e+06  \n",
            "mean   1.262422e+09  4.110517e+00  \n",
            "std    1.289277e+08  1.197651e+00  \n",
            "min    8.793792e+08  1.000000e+00  \n",
            "25%    1.164413e+09  4.000000e+00  \n",
            "50%    1.307491e+09  5.000000e+00  \n",
            "75%    1.373242e+09  5.000000e+00  \n",
            "max    1.406074e+09  5.000000e+00  \n"
          ]
        },
        {
          "output_type": "display_data",
          "data": {
            "text/plain": [
              "<Figure size 640x480 with 1 Axes>"
            ],
            "image/png": "[encoded data removed]"
          },
          "metadata": {}
        },
        {
          "output_type": "stream",
          "name": "stdout",
          "text": [
            "\n",
            "EVERYTHING IS PROPERLY SET UP! YOU ARE READY TO START\n"
          ]
        }
      ],
      "source": [
        "trainingSet = pd.read_csv('/content/drive/MyDrive/train.csv')\n",
        "testingSet = pd.read_csv('/content/drive/MyDrive/test.csv')\n",
        "\n",
        "\n",
        "print(\"train.csv shape is \", trainingSet.shape)\n",
        "print(\"test.csv shape is \", testingSet.shape)\n",
        "\n",
        "print()\n",
        "\n",
        "print(trainingSet.head())\n",
        "print()\n",
        "print(testingSet.head())\n",
        "\n",
        "print()\n",
        "\n",
        "print(trainingSet.describe())\n",
        "\n",
        "trainingSet['Score'].value_counts().plot(kind='bar', legend=True, alpha=.5)\n",
        "plt.show()\n",
        "\n",
        "print()\n",
        "print(\"EVERYTHING IS PROPERLY SET UP! YOU ARE READY TO START\")"
      ]
    },
    {
      "cell_type": "markdown",
      "metadata": {
        "id": "DnyygFJl-atw"
      },
      "source": [
        "# Adding Features"
      ]
    },
    {
      "cell_type": "code",
      "execution_count": null,
      "metadata": {
        "id": "70jEXD85-atw"
      },
      "outputs": [],
      "source": [
        "def add_features_to(df, max_text_length=250):\n",
        "    # Initialize Sentiment Analyzer\n",
        "    sia = SentimentIntensityAnalyzer()\n",
        "\n",
        "    # Check if 'HelpfulnessNumerator' and 'HelpfulnessDenominator' exist\n",
        "    df['Helpfulness'] = df['HelpfulnessNumerator'] / df['HelpfulnessDenominator']\n",
        "    df['Helpfulness'] = df['Helpfulness'].fillna(0)\n",
        "\n",
        "    # Calculate lengths of 'Summary' and 'Text' fields\n",
        "    df['Summary_length'] = df['Summary'].str.len().fillna(0)\n",
        "    df['Text_length'] = df['Text'].str.len().fillna(0)\n",
        "\n",
        "    # Compute sentiment scores for 'Summary' text\n",
        "    df['Summary_sentiment'] = df['Summary'].fillna('').apply(lambda x: sia.polarity_scores(x)['compound'])\n",
        "    df['Text_sentiment'] = df['Text'].fillna('').apply(lambda x: sia.polarity_scores(x[:max_text_length])['compound'])\n",
        "    return df\n",
        "\n",
        "X_train_path = \"/content/drive/MyDrive/data/X_train.csv\"\n",
        "X_submission_path = \"/content/drive/MyDrive/data/X_submission.csv\"\n",
        "\n",
        "train = add_features_to(trainingSet, 250)\n",
        "\n",
        "# Merge on Id so that the submission set can have feature columns as well\n",
        "X_submission = pd.merge(train, testingSet, left_on='Id', right_on='Id')\n",
        "X_submission = X_submission.drop(columns=['Score_x'])\n",
        "X_submission = X_submission.rename(columns={'Score_y': 'Score'})\n",
        "\n",
        "# The training set is where the score is not null\n",
        "X_train =  train[train['Score'].notnull()]\n",
        "\n",
        "os.makedirs('/content/drive/MyDrive/data', exist_ok=True)\n",
        "X_train.to_csv(X_train_path, index=False)\n",
        "X_submission.to_csv(X_submission_path, index=False)"
      ]
    },
    {
      "cell_type": "markdown",
      "metadata": {
        "id": "_tmyRkNs-atw"
      },
      "source": [
        "# Sample + Split into training and testing set"
      ]
    },
    {
      "cell_type": "code",
      "execution_count": null,
      "metadata": {
        "id": "W6v_q1uw-atw"
      },
      "outputs": [],
      "source": [
        "# Split training set into training and testing set\n",
        "X = X_train.drop(columns=['Score'])\n",
        "Y = X_train['Score']\n",
        "\n",
        "X_train_split, X_test_split, Y_train, Y_test = train_test_split(\n",
        "    X,\n",
        "    Y,\n",
        "    test_size=1/4.0,\n",
        "    random_state=0\n",
        ")"
      ]
    },
    {
      "cell_type": "markdown",
      "metadata": {
        "id": "kfnCHuaY-atw"
      },
      "source": [
        "# Feature Selection"
      ]
    },
    {
      "cell_type": "code",
      "execution_count": null,
      "metadata": {
        "id": "FMDYwnjT-atw"
      },
      "outputs": [],
      "source": [
        "features = [\n",
        "    'HelpfulnessNumerator', 'HelpfulnessDenominator', 'Time', 'Helpfulness',\n",
        "    'Summary_length', 'Text_length', 'Summary_sentiment', 'Text_sentiment'\n",
        "]\n",
        "\n",
        "X_train_select = X_train_split[features]\n",
        "X_test_select = X_test_split[features]\n",
        "X_submission_select = X_submission[features]"
      ]
    },
    {
      "cell_type": "markdown",
      "metadata": {
        "id": "N9L-9Yzj-atw"
      },
      "source": [
        "# Model Creation"
      ]
    },
    {
      "cell_type": "code",
      "execution_count": 8,
      "metadata": {
        "colab": {
          "base_uri": "https://localhost:8080/"
        },
        "id": "1vhRvdVb-atx",
        "outputId": "8ac81b54-b980-4009-e6b6-e05cbfd448cb"
      },
      "outputs": [
        {
          "output_type": "stream",
          "name": "stdout",
          "text": [
            "[LightGBM] [Info] Auto-choosing col-wise multi-threading, the overhead of testing was 39.421084 seconds.\n",
            "You can set `force_col_wise=true` to remove the overhead.\n",
            "[LightGBM] [Info] Total Bins 330017\n",
            "[LightGBM] [Info] Number of data points in the train set: 1114005, number of used features: 2008\n",
            "[LightGBM] [Info] Start training from score -2.792041\n",
            "[LightGBM] [Info] Start training from score -2.806973\n",
            "[LightGBM] [Info] Start training from score -2.133589\n",
            "[LightGBM] [Info] Start training from score -1.488600\n",
            "[LightGBM] [Info] Start training from score -0.626954\n"
          ]
        }
      ],
      "source": [
        "from sklearn.feature_extraction.text import TfidfVectorizer\n",
        "\n",
        "# Initialize TF-IDF Vectorizer for 'Summary'\n",
        "vectorizer_summary = TfidfVectorizer(max_features=1000, stop_words='english')\n",
        "\n",
        "# Fit and transform 'Summary' text\n",
        "X_train_summary = vectorizer_summary.fit_transform(X_train_split['Summary'].fillna(''))\n",
        "X_test_summary = vectorizer_summary.transform(X_test_split['Summary'].fillna(''))\n",
        "X_submission_summary = vectorizer_summary.transform(X_submission['Summary'].fillna(''))\n",
        "\n",
        "# Initialize TF-IDF Vectorizer for 'Text'\n",
        "vectorizer_text = TfidfVectorizer(max_features=1000, stop_words='english')\n",
        "\n",
        "# Fit and transform 'Text' field\n",
        "X_train_text = vectorizer_text.fit_transform(X_train_split['Text'].fillna(''))\n",
        "X_test_text = vectorizer_text.transform(X_test_split['Text'].fillna(''))\n",
        "X_submission_text = vectorizer_text.transform(X_submission['Text'].fillna(''))\n",
        "\n",
        "# Combine Numerical and Text Features\n",
        "from scipy.sparse import hstack\n",
        "from scipy import sparse\n",
        "\n",
        "# Convert numerical features to sparse matrices\n",
        "X_train_select_sparse = sparse.csr_matrix(X_train_select.values)\n",
        "X_test_select_sparse = sparse.csr_matrix(X_test_select.values)\n",
        "X_submission_select_sparse = sparse.csr_matrix(X_submission_select.values)\n",
        "\n",
        "# Combine numerical and text features\n",
        "X_train_combined = hstack([X_train_select_sparse, X_train_summary, X_train_text])\n",
        "X_test_combined = hstack([X_test_select_sparse, X_test_summary, X_test_text])\n",
        "X_submission_combined = hstack([X_submission_select_sparse, X_submission_summary, X_submission_text])\n",
        "\n",
        "# Model Creation using LightGBM\n",
        "import lightgbm as lgb\n",
        "\n",
        "# Initialize and train the LightGBM model\n",
        "model = lgb.LGBMClassifier(\n",
        "    n_estimators=300,\n",
        "    learning_rate=0.05,\n",
        "    random_state=0,\n",
        ")\n",
        "model.fit(X_train_combined, Y_train)\n",
        "\n",
        "# Predict the score using the model\n",
        "Y_test_predictions = model.predict(X_test_combined)"
      ]
    },
    {
      "cell_type": "markdown",
      "metadata": {
        "id": "E20wPtpU-atx"
      },
      "source": [
        "# Model Evaluation"
      ]
    },
    {
      "cell_type": "code",
      "execution_count": 9,
      "metadata": {
        "id": "QC372uqT-atx",
        "colab": {
          "base_uri": "https://localhost:8080/",
          "height": 490
        },
        "outputId": "b578d4a8-73fa-4e9f-8c6f-9c6d043af288"
      },
      "outputs": [
        {
          "output_type": "stream",
          "name": "stdout",
          "text": [
            "LightGBM Accuracy on testing set = 0.6489998276493526\n"
          ]
        },
        {
          "output_type": "display_data",
          "data": {
            "text/plain": [
              "<Figure size 640x480 with 2 Axes>"
            ],
            "image/png": "[encoded data removed]"
          },
          "metadata": {}
        }
      ],
      "source": [
        "# Model Evaluation for LightGBM\n",
        "from sklearn.metrics import accuracy_score, confusion_matrix\n",
        "import seaborn as sns\n",
        "import matplotlib.pyplot as plt\n",
        "\n",
        "# Evaluate your model on the testing set\n",
        "print(\"LightGBM Accuracy on testing set =\", accuracy_score(Y_test, Y_test_predictions))\n",
        "\n",
        "# Plot a confusion matrix\n",
        "cm = confusion_matrix(Y_test, Y_test_predictions, normalize='true')\n",
        "sns.heatmap(cm, annot=True, cmap='Blues')\n",
        "plt.title('Confusion Matrix of LightGBM Classifier')\n",
        "plt.xlabel('Predicted')\n",
        "plt.ylabel('True')\n",
        "plt.show()"
      ]
    },
    {
      "cell_type": "markdown",
      "metadata": {
        "id": "cypWvrEh-atx"
      },
      "source": [
        "# Create submission file"
      ]
    },
    {
      "cell_type": "code",
      "execution_count": 10,
      "metadata": {
        "id": "kb4QqLd8-atx",
        "colab": {
          "base_uri": "https://localhost:8080/"
        },
        "outputId": "cd0f9f3a-f2b9-41c1-cd42-311e2417f236"
      },
      "outputs": [
        {
          "output_type": "stream",
          "name": "stdout",
          "text": [
            "Submission file created at /content/drive/MyDrive/data/submission.csv\n"
          ]
        }
      ],
      "source": [
        "X_submission['Score'] = model.predict(X_submission_combined)\n",
        "submission = X_submission[['Id', 'Score']]\n",
        "submission.to_csv(\"/content/drive/MyDrive/data/submission.csv\", index=False)\n",
        "print(\"Submission file created at /content/drive/MyDrive/data/submission.csv\")"
      ]
    }
  ],
  "metadata": {
    "kernelspec": {
      "display_name": "env",
      "language": "python",
      "name": "python3"
    },
    "language_info": {
      "codemirror_mode": {
        "name": "ipython",
        "version": 3
      },
      "file_extension": ".py",
      "mimetype": "text/x-python",
      "name": "python",
      "nbconvert_exporter": "python",
      "pygments_lexer": "ipython3",
      "version": "3.12.3"
    },
    "colab": {
      "provenance": []
    }
  },
  "nbformat": 4,
  "nbformat_minor": 0
}